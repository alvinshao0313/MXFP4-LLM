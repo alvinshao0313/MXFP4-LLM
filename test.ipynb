{
 "cells": [
  {
   "cell_type": "code",
   "execution_count": 2,
   "id": "2b7cdd6f",
   "metadata": {},
   "outputs": [],
   "source": [
    "from mx.elemwise_ops import quantize_elemwise_op\n",
    "from mx.mx_ops import quantize_mx_op\n",
    "from mx.specs import MxSpecs"
   ]
  },
  {
   "cell_type": "code",
   "execution_count": 3,
   "id": "419eb589",
   "metadata": {},
   "outputs": [],
   "source": [
    "\n",
    "def mx_quant_dequant(input, mx_specs, axes=-1):\n",
    "    dtype = input.dtype\n",
    "    # bf_in = quantize_elemwise_op(\n",
    "    #     input.float(), mx_specs=mx_specs, round=mx_specs[\"round_output\"]\n",
    "    # )\n",
    "    qin = quantize_elemwise_op(\n",
    "        input,\n",
    "        mx_specs,\n",
    "        round=mx_specs[\"round_mx_output\"],\n",
    "    )\n",
    "    qin = qin.to(dtype)\n",
    "    return qin"
   ]
  },
  {
   "cell_type": "code",
   "execution_count": 4,
   "id": "bf993781",
   "metadata": {},
   "outputs": [],
   "source": [
    "mx_specs = MxSpecs()\n",
    "mx_specs['custom_cuda'] = True\n",
    "mx_specs['w_elem_format'] = 'int4'\n",
    "mx_specs['w_scale_mode'] = 2\n",
    "mx_specs['per_tensor'] = False\n",
    "mx_specs['scale_bits'] = 16\n",
    "mx_specs['block_size'] = 4"
   ]
  },
  {
   "cell_type": "code",
   "execution_count": 5,
   "id": "f23b3602",
   "metadata": {},
   "outputs": [
    {
     "name": "stdout",
     "output_type": "stream",
     "text": [
      "tensor([[  0.,   1.,   2.,   3.,   4.,   5.,   6.,   7.,   8.,   9., 400.,  -1.]])\n"
     ]
    }
   ],
   "source": [
    "import torch\n",
    "tensor = torch.tensor([0, 1, 2, 3, 4, 5, 6, 7, 8, 9, 400, -1]\n",
    "                    #   [0, 1, 2, 3, 4, 5, 6, 7, 8, 9, 400, -1],\n",
    "                    #   [0, 1, 2, 3, 4, 5, 6, 7, 8, 9, 400, -1],\n",
    "                    #   [0, 1, 2, 3, 4, 5, 6, 7, 8, 9, 400, -1],\n",
    "                     , dtype=torch.float32)\n",
    "quantized_tensor = mx_quant_dequant(tensor.unsqueeze(0), mx_specs, axes=-1)\n",
    "print(quantized_tensor)"
   ]
  },
  {
   "cell_type": "code",
   "execution_count": 6,
   "id": "42655715",
   "metadata": {},
   "outputs": [
    {
     "name": "stdout",
     "output_type": "stream",
     "text": [
      "tensor([[  0.0000,   0.8571,   2.1429,   3.0000],\n",
      "        [  4.0000,   5.0000,   6.0000,   7.0000],\n",
      "        [  0.0000,   0.0000, 400.0000,  -0.0000]])\n"
     ]
    }
   ],
   "source": [
    "tensor = tensor.reshape(3, 4)\n",
    "q_t = (tensor / (tensor.max(dim=-1, keepdim=True)[0] / 7)).round().clamp(-8, 7) * (tensor.max(dim=-1, keepdim=True)[0] / 7)\n",
    "print(q_t)"
   ]
  },
  {
   "cell_type": "code",
   "execution_count": 7,
   "id": "1457da56",
   "metadata": {},
   "outputs": [
    {
     "name": "stdout",
     "output_type": "stream",
     "text": [
      "scale_bits: 16\n",
      "w_elem_format: int4\n",
      "a_elem_format: None\n",
      "A_elem_format: None\n",
      "B_elem_format: None\n",
      "w_elem_format_bp: None\n",
      "a_elem_format_bp_ex: None\n",
      "a_elem_format_bp_os: None\n",
      "mx_flush_fp32_subnorms: False\n",
      "shared_exp_method: max\n",
      "block_size: 4\n",
      "bfloat: 0\n",
      "fp: 0\n",
      "bfloat_subnorms: True\n",
      "quantize_backprop: True\n",
      "round: nearest\n",
      "round_m: nearest\n",
      "round_weight: nearest\n",
      "round_output: nearest\n",
      "round_grad_weight: nearest\n",
      "round_grad_input: nearest\n",
      "round_mx_output: nearest\n",
      "round_mx_input_grad_input: nearest\n",
      "round_mx_weight_grad_input: nearest\n",
      "round_mx_grad_output_grad_input: nearest\n",
      "round_mx_input_grad_weight: nearest\n",
      "round_mx_grad_output_grad_weight: nearest\n",
      "softmax_exp2: False\n",
      "vec_use_exp2: False\n",
      "vec_use_recip: False\n",
      "custom_cuda: True\n",
      "a_scale_mode: 0\n",
      "w_scale_mode: 2\n",
      "A_scale_mode: 0\n",
      "B_scale_mode: 0\n",
      "per_tensor: False\n"
     ]
    }
   ],
   "source": [
    "for k, v in mx_specs.items():\n",
    "    print(f\"{k}: {v}\")"
   ]
  }
 ],
 "metadata": {
  "kernelspec": {
   "display_name": "mx-qllm",
   "language": "python",
   "name": "python3"
  },
  "language_info": {
   "codemirror_mode": {
    "name": "ipython",
    "version": 3
   },
   "file_extension": ".py",
   "mimetype": "text/x-python",
   "name": "python",
   "nbconvert_exporter": "python",
   "pygments_lexer": "ipython3",
   "version": "3.11.13"
  }
 },
 "nbformat": 4,
 "nbformat_minor": 5
}
