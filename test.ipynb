{
 "cells": [
  {
   "cell_type": "code",
   "execution_count": 1,
   "id": "2b7cdd6f",
   "metadata": {},
   "outputs": [],
   "source": [
    "from mx.elemwise_ops import quantize_elemwise_op\n",
    "from mx.mx_ops import quantize_mx_op\n",
    "from mx.specs import MxSpecs"
   ]
  },
  {
   "cell_type": "code",
   "execution_count": null,
   "id": "419eb589",
   "metadata": {},
   "outputs": [],
   "source": [
    "\n",
    "def mx_quant_dequant(input, mx_specs, axes=-1):\n",
    "    dtype = input.dtype\n",
    "    bf_in = quantize_elemwise_op(\n",
    "        input.float(), mx_specs=mx_specs, round=mx_specs[\"round_output\"]\n",
    "    )\n",
    "    qin_elem_format = mx_specs[\"w_elem_format\"]\n",
    "    qin = quantize_mx_op(\n",
    "        bf_in,\n",
    "        mx_specs,\n",
    "        elem_format=qin_elem_format,\n",
    "        scale_mode=mx_specs['W_scale_mode'],\n",
    "        axes=[axes],\n",
    "        round=mx_specs[\"round_mx_output\"],\n",
    "    )\n",
    "    qin = qin.to(dtype)\n",
    "    return qin"
   ]
  },
  {
   "cell_type": "code",
   "execution_count": null,
   "id": "bf993781",
   "metadata": {},
   "outputs": [],
   "source": [
    "mx_specs = MxSpecs()\n",
    "mx_specs['custom_cuda'] = True\n",
    "mx_specs['w_scale_mode'] = 'fp4_e2m1'\n",
    "mx_specs['per_tensor'] = False"
   ]
  }
 ],
 "metadata": {
  "kernelspec": {
   "display_name": "mx-qllm",
   "language": "python",
   "name": "python3"
  },
  "language_info": {
   "codemirror_mode": {
    "name": "ipython",
    "version": 3
   },
   "file_extension": ".py",
   "mimetype": "text/x-python",
   "name": "python",
   "nbconvert_exporter": "python",
   "pygments_lexer": "ipython3",
   "version": "3.11.13"
  }
 },
 "nbformat": 4,
 "nbformat_minor": 5
}
